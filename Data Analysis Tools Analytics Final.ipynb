{
 "cells": [
  {
   "cell_type": "code",
   "execution_count": 1,
   "id": "23996e44",
   "metadata": {},
   "outputs": [],
   "source": [
    "#load Library\n",
    "import pandas as pd\n",
    "import matplotlib as plt"
   ]
  },
  {
   "cell_type": "code",
   "execution_count": 2,
   "id": "861477ca",
   "metadata": {},
   "outputs": [
    {
     "data": {
      "text/html": [
       "<div>\n",
       "<style scoped>\n",
       "    .dataframe tbody tr th:only-of-type {\n",
       "        vertical-align: middle;\n",
       "    }\n",
       "\n",
       "    .dataframe tbody tr th {\n",
       "        vertical-align: top;\n",
       "    }\n",
       "\n",
       "    .dataframe thead th {\n",
       "        text-align: right;\n",
       "    }\n",
       "</style>\n",
       "<table border=\"1\" class=\"dataframe\">\n",
       "  <thead>\n",
       "    <tr style=\"text-align: right;\">\n",
       "      <th></th>\n",
       "      <th>Timestamp</th>\n",
       "      <th>Age</th>\n",
       "      <th>Gender</th>\n",
       "      <th>Country</th>\n",
       "      <th>state</th>\n",
       "      <th>self_employed</th>\n",
       "      <th>family_history</th>\n",
       "      <th>treatment</th>\n",
       "      <th>work_interfere</th>\n",
       "      <th>no_employees</th>\n",
       "      <th>...</th>\n",
       "      <th>leave</th>\n",
       "      <th>mental_health_consequence</th>\n",
       "      <th>phys_health_consequence</th>\n",
       "      <th>coworkers</th>\n",
       "      <th>supervisor</th>\n",
       "      <th>mental_health_interview</th>\n",
       "      <th>phys_health_interview</th>\n",
       "      <th>mental_vs_physical</th>\n",
       "      <th>obs_consequence</th>\n",
       "      <th>comments</th>\n",
       "    </tr>\n",
       "  </thead>\n",
       "  <tbody>\n",
       "    <tr>\n",
       "      <th>0</th>\n",
       "      <td>2014-08-27 11:29:31</td>\n",
       "      <td>37</td>\n",
       "      <td>Female</td>\n",
       "      <td>United States</td>\n",
       "      <td>IL</td>\n",
       "      <td>NaN</td>\n",
       "      <td>No</td>\n",
       "      <td>Yes</td>\n",
       "      <td>Often</td>\n",
       "      <td>6-25</td>\n",
       "      <td>...</td>\n",
       "      <td>Somewhat easy</td>\n",
       "      <td>No</td>\n",
       "      <td>No</td>\n",
       "      <td>Some of them</td>\n",
       "      <td>Yes</td>\n",
       "      <td>No</td>\n",
       "      <td>Maybe</td>\n",
       "      <td>Yes</td>\n",
       "      <td>No</td>\n",
       "      <td>NaN</td>\n",
       "    </tr>\n",
       "    <tr>\n",
       "      <th>1</th>\n",
       "      <td>2014-08-27 11:29:37</td>\n",
       "      <td>44</td>\n",
       "      <td>M</td>\n",
       "      <td>United States</td>\n",
       "      <td>IN</td>\n",
       "      <td>NaN</td>\n",
       "      <td>No</td>\n",
       "      <td>No</td>\n",
       "      <td>Rarely</td>\n",
       "      <td>More than 1000</td>\n",
       "      <td>...</td>\n",
       "      <td>Don't know</td>\n",
       "      <td>Maybe</td>\n",
       "      <td>No</td>\n",
       "      <td>No</td>\n",
       "      <td>No</td>\n",
       "      <td>No</td>\n",
       "      <td>No</td>\n",
       "      <td>Don't know</td>\n",
       "      <td>No</td>\n",
       "      <td>NaN</td>\n",
       "    </tr>\n",
       "    <tr>\n",
       "      <th>2</th>\n",
       "      <td>2014-08-27 11:29:44</td>\n",
       "      <td>32</td>\n",
       "      <td>Male</td>\n",
       "      <td>Canada</td>\n",
       "      <td>NaN</td>\n",
       "      <td>NaN</td>\n",
       "      <td>No</td>\n",
       "      <td>No</td>\n",
       "      <td>Rarely</td>\n",
       "      <td>6-25</td>\n",
       "      <td>...</td>\n",
       "      <td>Somewhat difficult</td>\n",
       "      <td>No</td>\n",
       "      <td>No</td>\n",
       "      <td>Yes</td>\n",
       "      <td>Yes</td>\n",
       "      <td>Yes</td>\n",
       "      <td>Yes</td>\n",
       "      <td>No</td>\n",
       "      <td>No</td>\n",
       "      <td>NaN</td>\n",
       "    </tr>\n",
       "    <tr>\n",
       "      <th>3</th>\n",
       "      <td>2014-08-27 11:29:46</td>\n",
       "      <td>31</td>\n",
       "      <td>Male</td>\n",
       "      <td>United Kingdom</td>\n",
       "      <td>NaN</td>\n",
       "      <td>NaN</td>\n",
       "      <td>Yes</td>\n",
       "      <td>Yes</td>\n",
       "      <td>Often</td>\n",
       "      <td>26-100</td>\n",
       "      <td>...</td>\n",
       "      <td>Somewhat difficult</td>\n",
       "      <td>Yes</td>\n",
       "      <td>Yes</td>\n",
       "      <td>Some of them</td>\n",
       "      <td>No</td>\n",
       "      <td>Maybe</td>\n",
       "      <td>Maybe</td>\n",
       "      <td>No</td>\n",
       "      <td>Yes</td>\n",
       "      <td>NaN</td>\n",
       "    </tr>\n",
       "    <tr>\n",
       "      <th>4</th>\n",
       "      <td>2014-08-27 11:30:22</td>\n",
       "      <td>31</td>\n",
       "      <td>Male</td>\n",
       "      <td>United States</td>\n",
       "      <td>TX</td>\n",
       "      <td>NaN</td>\n",
       "      <td>No</td>\n",
       "      <td>No</td>\n",
       "      <td>Never</td>\n",
       "      <td>100-500</td>\n",
       "      <td>...</td>\n",
       "      <td>Don't know</td>\n",
       "      <td>No</td>\n",
       "      <td>No</td>\n",
       "      <td>Some of them</td>\n",
       "      <td>Yes</td>\n",
       "      <td>Yes</td>\n",
       "      <td>Yes</td>\n",
       "      <td>Don't know</td>\n",
       "      <td>No</td>\n",
       "      <td>NaN</td>\n",
       "    </tr>\n",
       "  </tbody>\n",
       "</table>\n",
       "<p>5 rows × 27 columns</p>\n",
       "</div>"
      ],
      "text/plain": [
       "             Timestamp  Age  Gender         Country state self_employed  \\\n",
       "0  2014-08-27 11:29:31   37  Female   United States    IL           NaN   \n",
       "1  2014-08-27 11:29:37   44       M   United States    IN           NaN   \n",
       "2  2014-08-27 11:29:44   32    Male          Canada   NaN           NaN   \n",
       "3  2014-08-27 11:29:46   31    Male  United Kingdom   NaN           NaN   \n",
       "4  2014-08-27 11:30:22   31    Male   United States    TX           NaN   \n",
       "\n",
       "  family_history treatment work_interfere    no_employees  ...  \\\n",
       "0             No       Yes          Often            6-25  ...   \n",
       "1             No        No         Rarely  More than 1000  ...   \n",
       "2             No        No         Rarely            6-25  ...   \n",
       "3            Yes       Yes          Often          26-100  ...   \n",
       "4             No        No          Never         100-500  ...   \n",
       "\n",
       "                leave mental_health_consequence phys_health_consequence  \\\n",
       "0       Somewhat easy                        No                      No   \n",
       "1          Don't know                     Maybe                      No   \n",
       "2  Somewhat difficult                        No                      No   \n",
       "3  Somewhat difficult                       Yes                     Yes   \n",
       "4          Don't know                        No                      No   \n",
       "\n",
       "      coworkers supervisor mental_health_interview phys_health_interview  \\\n",
       "0  Some of them        Yes                      No                 Maybe   \n",
       "1            No         No                      No                    No   \n",
       "2           Yes        Yes                     Yes                   Yes   \n",
       "3  Some of them         No                   Maybe                 Maybe   \n",
       "4  Some of them        Yes                     Yes                   Yes   \n",
       "\n",
       "  mental_vs_physical obs_consequence comments  \n",
       "0                Yes              No      NaN  \n",
       "1         Don't know              No      NaN  \n",
       "2                 No              No      NaN  \n",
       "3                 No             Yes      NaN  \n",
       "4         Don't know              No      NaN  \n",
       "\n",
       "[5 rows x 27 columns]"
      ]
     },
     "execution_count": 2,
     "metadata": {},
     "output_type": "execute_result"
    }
   ],
   "source": [
    "#Load Dataset\n",
    "Dataset = pd.read_csv(\"survey.csv\")\n",
    "Dataset.head()"
   ]
  },
  {
   "cell_type": "code",
   "execution_count": 3,
   "id": "138d574b",
   "metadata": {},
   "outputs": [],
   "source": [
    "#Cleaning of Age dataset\n",
    "dataframe1 = Dataset[Dataset['Age'] > 0]\n",
    "dataframe2 = dataframe1[dataframe1['Age'] < 100]"
   ]
  },
  {
   "cell_type": "code",
   "execution_count": 14,
   "id": "9ded4577",
   "metadata": {},
   "outputs": [],
   "source": [
    "#Group by Age\n",
    "dataframe2.loc[dataframe2['Age'].between(0, 13, 'both'), 'AgeGroup'] = 'Kids'\n",
    "dataframe2.loc[dataframe2['Age'].between(13, 19, 'right'), 'AgeGroup'] = 'Teenegers'\n",
    "dataframe2.loc[dataframe2['Age'].between(19, 30, 'right'), 'AgeGroup'] = 'Adults'\n",
    "dataframe2.loc[dataframe2['Age'].between(30, 58, 'right'), 'AgeGroup'] = 'Middle-Age'\n",
    "dataframe2.loc[dataframe2['Age'].between(58, 100, 'right'), 'AgeGroup'] = 'Senior-Citizen'"
   ]
  },
  {
   "cell_type": "code",
   "execution_count": 5,
   "id": "f7852a07",
   "metadata": {},
   "outputs": [],
   "source": [
    "#Group by Gender\n",
    "genders_male = [\"M\", \"Male\", \"male\", \"m\", 'Male-ish', 'maile',\n",
    "                'something kinda male?', 'Cis Male', 'Mal', 'Male (CIS)',\n",
    "                'Make', 'male leaning androgynous', 'Male ', 'Man', 'msle', 'Mail', 'cis male', 'Malr', 'Cis Man']\n",
    "\n",
    "genders_female = ['Female', 'female', 'Cis Female', 'F', 'f',\n",
    "                  'Woman', 'Femake', 'woman', 'fluid', 'Female ',\n",
    "                  'cis-female/femme', 'Female (cis)', 'femail']\n",
    "\n",
    "genders_non_binary = ['Trans-female', 'queer/she/they',\n",
    "                      'non-binary', 'Nah', 'Enby', 'Genderqueer',  'Androgyne',\n",
    "                      'Agender', 'Guy (-ish) ^_^',  'Trans woman', 'Neuter',\n",
    "                      'Female (trans)', 'queer', 'A little about you', 'ostensibly male, unsure what that really means']\n",
    "\n",
    "dataframe2.loc[(dataframe2['Gender'].isin(genders_male)), \"Gender\"] = \"Male\"\n",
    "dataframe2.loc[(dataframe2['Gender'].isin(genders_female)), \"Gender\"] = \"Female\"\n",
    "dataframe2.loc[(dataframe2['Gender'].isin(genders_non_binary)), \"Gender\"] = \"NonBinary\""
   ]
  },
  {
   "cell_type": "code",
   "execution_count": 6,
   "id": "be7246ab",
   "metadata": {},
   "outputs": [
    {
     "name": "stderr",
     "output_type": "stream",
     "text": [
      "C:\\ProgramData\\Anaconda3\\lib\\site-packages\\pandas\\core\\frame.py:5039: SettingWithCopyWarning: \n",
      "A value is trying to be set on a copy of a slice from a DataFrame\n",
      "\n",
      "See the caveats in the documentation: https://pandas.pydata.org/pandas-docs/stable/user_guide/indexing.html#returning-a-view-versus-a-copy\n",
      "  return super().rename(\n"
     ]
    }
   ],
   "source": [
    "#Group by Country name\n",
    "Asia = ['India', 'Israel', 'Singapore',\n",
    "        'Japan', 'Thailand', 'China', 'Philippines']\n",
    "NorthAmerica = ['United States', 'Canada',\n",
    "                'Mexico', 'Costa Rica', 'Bahamas, The']\n",
    "SouthAmerica = ['Brazil', 'Colombia', 'Uruguay']\n",
    "Europe = ['United Kingdom', 'Bulgaria', 'France', 'Portugal',\n",
    "          'Netherlands', 'Switzerland', 'Poland', 'Germany', 'Russia',\n",
    "          'Slovenia', 'Austria', 'Ireland', 'Italy', 'Sweden',\n",
    "          'Latvia', 'Romania', 'Belgium', 'Spain', 'Finland',\n",
    "          'Bosnia and Herzegovina', 'Hungary', 'Croatia',\n",
    "          'Norway', 'Denmark', 'Greece', 'Moldova', 'Georgia', 'Czech Republic']\n",
    "Australia = ['Australia', 'New Zealand']\n",
    "Africa = ['South Africa', 'Nigeria']\n",
    "\n",
    "dataframe2.loc[(dataframe2['Country'].isin(Asia)), \"Country\"] = \"Asia\"\n",
    "dataframe2.loc[(dataframe2['Country'].isin(NorthAmerica)), \"Country\"] = \"NorthAmerica\"\n",
    "dataframe2.loc[(dataframe2['Country'].isin(SouthAmerica)), \"Country\"] = \"SouthAmerica\"\n",
    "dataframe2.loc[(dataframe2['Country'].isin(Europe)), \"Country\"] = \"Europe\"\n",
    "dataframe2.loc[(dataframe2['Country'].isin(Australia)), \"Country\"] = \"Australia\"\n",
    "dataframe2.loc[(dataframe2['Country'].isin(Africa)), \"Country\"] = \"Africa\"\n",
    "\n",
    "dataframe2.rename(columns={'Country': 'Continents'}, inplace=True)"
   ]
  },
  {
   "cell_type": "code",
   "execution_count": 7,
   "id": "b3916967",
   "metadata": {},
   "outputs": [],
   "source": [
    "dataframe2.loc[(dataframe2['remote_work'].isin(['No'])),\n",
    "        \"remote_work\"] = \"No\"\n",
    "dataframe2.loc[(dataframe2['remote_work'].isin(['Yes'])), \"remote_work\"] = \"Yes\"\n",
    "\n",
    "dataframe2.loc[(dataframe2['seek_help'].isin(['No', \"Don't know\"])), \"seek_help\"] = \"No\"\n",
    "dataframe2.loc[(dataframe2['seek_help'].isin(['Yes'])), \"seek_help\"] = \"Yes\"\n",
    "\n",
    "dataframe2.loc[(dataframe2['benefits'].isin(['No', \"Don't know\"])), \"benefits\"] = \"No\"\n",
    "dataframe2.loc[(dataframe2['benefits'].isin(['Yes'])), \"benefits\"] = \"Yes\"\n",
    "\n",
    "dataframe2.loc[(dataframe2['care_options'].isin(['No', \"Not sure\"])), \"care_options\"] = \"No\"\n",
    "dataframe2.loc[(dataframe2['care_options'].isin(['Yes'])), \"care_options\"] = \"Yes\"\n",
    "\n",
    "dataframe2.loc[(dataframe2['mental_health_consequence'].isin(['No'])),\n",
    "        \"mental_health_consequence\"] = \"No\"\n",
    "dataframe2.loc[(dataframe2['mental_health_consequence'].isin(['Yes', 'Maybe'])),\n",
    "        \"mental_health_consequence\"] = \"Yes\""
   ]
  },
  {
   "cell_type": "code",
   "execution_count": 8,
   "id": "6c4cb76f",
   "metadata": {},
   "outputs": [],
   "source": [
    "# print(dataframe2['phys_health_consequence'].unique())\n",
    "\n",
    "final_dataset = dataframe2[[ 'Continents','benefits', 'Gender','seek_help', 'care_options', 'mental_health_consequence','remote_work']]"
   ]
  },
  {
   "cell_type": "markdown",
   "id": "9d871d07",
   "metadata": {},
   "source": [
    "## Analysis on SouthAmerica"
   ]
  },
  {
   "cell_type": "code",
   "execution_count": 9,
   "id": "4dee14a0",
   "metadata": {},
   "outputs": [
    {
     "data": {
      "text/plain": [
       "<AxesSubplot:ylabel='mental_health_consequence'>"
      ]
     },
     "execution_count": 9,
     "metadata": {},
     "output_type": "execute_result"
    },
    {
     "data": {
      "image/png": "[encoded data removed]",
      "text/plain": [
       "<Figure size 432x288 with 1 Axes>"
      ]
     },
     "metadata": {},
     "output_type": "display_data"
    }
   ],
   "source": [
    "dataframe3 = final_dataset.query('remote_work == \"No\" & benefits == \"No\" & Continents == \"SouthAmerica\" & seek_help == \"No\" & care_options == \"No\"')\n",
    "\n",
    "dataframe3['mental_health_consequence'].value_counts().plot(kind=\"pie\", colormap=\"copper_r\")"
   ]
  },
  {
   "cell_type": "code",
   "execution_count": 10,
   "id": "d667bd18",
   "metadata": {},
   "outputs": [
    {
     "data": {
      "text/plain": [
       "<AxesSubplot:xlabel='Mental Health consequence', ylabel='count'>"
      ]
     },
     "execution_count": 10,
     "metadata": {},
     "output_type": "execute_result"
    },
    {
     "data": {
      "image/png": "[encoded data removed]",
      "text/plain": [
       "<Figure size 432x288 with 1 Axes>"
      ]
     },
     "metadata": {
      "needs_background": "light"
     },
     "output_type": "display_data"
    }
   ],
   "source": [
    "dataframe4=dataframe3.groupby(['mental_health_consequence','Gender']).size()\n",
    "dataframe4=dataframe4.unstack()\n",
    "dataframe4.plot(kind='bar', xlabel=\"Mental Health consequence\", ylabel=\"count\", colormap = \"Blues_r\")"
   ]
  },
  {
   "cell_type": "markdown",
   "id": "831228bb",
   "metadata": {},
   "source": [
    "## Analysis on Europe"
   ]
  },
  {
   "cell_type": "code",
   "execution_count": 11,
   "id": "921b9a5d",
   "metadata": {},
   "outputs": [
    {
     "data": {
      "text/plain": [
       "<AxesSubplot:ylabel='mental_health_consequence'>"
      ]
     },
     "execution_count": 11,
     "metadata": {},
     "output_type": "execute_result"
    },
    {
     "data": {
      "image/png": "[encoded data removed]",
      "text/plain": [
       "<Figure size 432x288 with 1 Axes>"
      ]
     },
     "metadata": {},
     "output_type": "display_data"
    }
   ],
   "source": [
    "dataframe5 = final_dataset.query('remote_work == \"No\" & benefits == \"No\" & Continents == \"Europe\" & seek_help == \"No\" & care_options == \"No\"')\n",
    "\n",
    "dataframe5['mental_health_consequence'].value_counts().plot(kind=\"pie\", colormap=\"copper_r\")"
   ]
  },
  {
   "cell_type": "code",
   "execution_count": 12,
   "id": "5725c07b",
   "metadata": {},
   "outputs": [
    {
     "data": {
      "text/plain": [
       "<AxesSubplot:xlabel='Mental Health consequence', ylabel='count'>"
      ]
     },
     "execution_count": 12,
     "metadata": {},
     "output_type": "execute_result"
    },
    {
     "data": {
      "image/png": "[encoded data removed]",
      "text/plain": [
       "<Figure size 432x288 with 1 Axes>"
      ]
     },
     "metadata": {
      "needs_background": "light"
     },
     "output_type": "display_data"
    }
   ],
   "source": [
    "dataframe6=dataframe5.groupby(['mental_health_consequence','Gender']).size()\n",
    "dataframe6=dataframe6.unstack()\n",
    "dataframe6.plot(kind='bar', xlabel=\"Mental Health consequence\", ylabel=\"count\", colormap = \"copper\")"
   ]
  }
 ],
 "metadata": {
  "kernelspec": {
   "display_name": "Python 3 (ipykernel)",
   "language": "python",
   "name": "python3"
  },
  "language_info": {
   "codemirror_mode": {
    "name": "ipython",
    "version": 3
   },
   "file_extension": ".py",
   "mimetype": "text/x-python",
   "name": "python",
   "nbconvert_exporter": "python",
   "pygments_lexer": "ipython3",
   "version": "3.9.7"
  }
 },
 "nbformat": 4,
 "nbformat_minor": 5
}
